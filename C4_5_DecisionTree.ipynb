{
  "nbformat": 4,
  "nbformat_minor": 0,
  "metadata": {
    "colab": {
      "name": "C4.5_DecisionTree.ipynb",
      "provenance": [],
      "collapsed_sections": []
    },
    "kernelspec": {
      "name": "python3",
      "display_name": "Python 3"
    }
  },
  "cells": [
    {
      "cell_type": "code",
      "metadata": {
        "id": "m_I5pxeh8dh1",
        "colab": {
          "base_uri": "https://localhost:8080/"
        },
        "outputId": "5049285a-5b74-4e41-8d67-6883ce42f1b4"
      },
      "source": [
        "#import google drive files\n",
        "from google.colab import drive\n",
        "drive.mount('/content/gdrive')"
      ],
      "execution_count": 1,
      "outputs": [
        {
          "output_type": "stream",
          "text": [
            "Mounted at /content/gdrive\n"
          ],
          "name": "stdout"
        }
      ]
    },
    {
      "cell_type": "markdown",
      "metadata": {
        "id": "FZ0c7aM5tdBI"
      },
      "source": [
        ""
      ]
    },
    {
      "cell_type": "code",
      "metadata": {
        "id": "zKK2I6zXIlke",
        "colab": {
          "base_uri": "https://localhost:8080/",
          "height": 224
        },
        "outputId": "35eb7a37-cbdc-4fa4-8489-eb714bb9e2b0"
      },
      "source": [
        "#display data\n",
        "import pandas as pd\n",
        "data = pd.read_csv(\"/content/gdrive/MyDrive/Colab Notebooks/BreastCancerPrediction_PR/DT-breast-cancer-wisconsin.csv\")\n",
        "data.head()\n"
      ],
      "execution_count": 28,
      "outputs": [
        {
          "output_type": "execute_result",
          "data": {
            "text/html": [
              "<div>\n",
              "<style scoped>\n",
              "    .dataframe tbody tr th:only-of-type {\n",
              "        vertical-align: middle;\n",
              "    }\n",
              "\n",
              "    .dataframe tbody tr th {\n",
              "        vertical-align: top;\n",
              "    }\n",
              "\n",
              "    .dataframe thead th {\n",
              "        text-align: right;\n",
              "    }\n",
              "</style>\n",
              "<table border=\"1\" class=\"dataframe\">\n",
              "  <thead>\n",
              "    <tr style=\"text-align: right;\">\n",
              "      <th></th>\n",
              "      <th>Column1</th>\n",
              "      <th>Column3</th>\n",
              "      <th>Column4</th>\n",
              "      <th>Column5</th>\n",
              "      <th>Column6</th>\n",
              "      <th>Column7</th>\n",
              "      <th>Column8</th>\n",
              "      <th>Column9</th>\n",
              "      <th>Column10</th>\n",
              "      <th>Column11</th>\n",
              "      <th>Column12</th>\n",
              "      <th>Column13</th>\n",
              "      <th>Column14</th>\n",
              "      <th>Column15</th>\n",
              "      <th>Column16</th>\n",
              "      <th>Column17</th>\n",
              "      <th>Column18</th>\n",
              "      <th>Column19</th>\n",
              "      <th>Column20</th>\n",
              "      <th>Column21</th>\n",
              "      <th>Column22</th>\n",
              "      <th>Column23</th>\n",
              "      <th>Column24</th>\n",
              "      <th>Column25</th>\n",
              "      <th>Column26</th>\n",
              "      <th>Column27</th>\n",
              "      <th>Column28</th>\n",
              "      <th>Column29</th>\n",
              "      <th>Column30</th>\n",
              "      <th>Column31</th>\n",
              "      <th>Column32</th>\n",
              "      <th>Decision</th>\n",
              "    </tr>\n",
              "  </thead>\n",
              "  <tbody>\n",
              "    <tr>\n",
              "      <th>0</th>\n",
              "      <td>842302</td>\n",
              "      <td>17.99</td>\n",
              "      <td>10.38</td>\n",
              "      <td>122.80</td>\n",
              "      <td>1001.0</td>\n",
              "      <td>0.11840</td>\n",
              "      <td>0.27760</td>\n",
              "      <td>0.3001</td>\n",
              "      <td>0.14710</td>\n",
              "      <td>0.2419</td>\n",
              "      <td>0.07871</td>\n",
              "      <td>1.0950</td>\n",
              "      <td>0.9053</td>\n",
              "      <td>8.589</td>\n",
              "      <td>153.40</td>\n",
              "      <td>0.006399</td>\n",
              "      <td>0.04904</td>\n",
              "      <td>0.05373</td>\n",
              "      <td>0.01587</td>\n",
              "      <td>0.03003</td>\n",
              "      <td>0.006193</td>\n",
              "      <td>25.38</td>\n",
              "      <td>17.33</td>\n",
              "      <td>184.60</td>\n",
              "      <td>2019.0</td>\n",
              "      <td>0.1622</td>\n",
              "      <td>0.6656</td>\n",
              "      <td>0.7119</td>\n",
              "      <td>0.2654</td>\n",
              "      <td>0.4601</td>\n",
              "      <td>0.11890</td>\n",
              "      <td>M</td>\n",
              "    </tr>\n",
              "    <tr>\n",
              "      <th>1</th>\n",
              "      <td>842517</td>\n",
              "      <td>20.57</td>\n",
              "      <td>17.77</td>\n",
              "      <td>132.90</td>\n",
              "      <td>1326.0</td>\n",
              "      <td>0.08474</td>\n",
              "      <td>0.07864</td>\n",
              "      <td>0.0869</td>\n",
              "      <td>0.07017</td>\n",
              "      <td>0.1812</td>\n",
              "      <td>0.05667</td>\n",
              "      <td>0.5435</td>\n",
              "      <td>0.7339</td>\n",
              "      <td>3.398</td>\n",
              "      <td>74.08</td>\n",
              "      <td>0.005225</td>\n",
              "      <td>0.01308</td>\n",
              "      <td>0.01860</td>\n",
              "      <td>0.01340</td>\n",
              "      <td>0.01389</td>\n",
              "      <td>0.003532</td>\n",
              "      <td>24.99</td>\n",
              "      <td>23.41</td>\n",
              "      <td>158.80</td>\n",
              "      <td>1956.0</td>\n",
              "      <td>0.1238</td>\n",
              "      <td>0.1866</td>\n",
              "      <td>0.2416</td>\n",
              "      <td>0.1860</td>\n",
              "      <td>0.2750</td>\n",
              "      <td>0.08902</td>\n",
              "      <td>M</td>\n",
              "    </tr>\n",
              "    <tr>\n",
              "      <th>2</th>\n",
              "      <td>84300903</td>\n",
              "      <td>19.69</td>\n",
              "      <td>21.25</td>\n",
              "      <td>130.00</td>\n",
              "      <td>1203.0</td>\n",
              "      <td>0.10960</td>\n",
              "      <td>0.15990</td>\n",
              "      <td>0.1974</td>\n",
              "      <td>0.12790</td>\n",
              "      <td>0.2069</td>\n",
              "      <td>0.05999</td>\n",
              "      <td>0.7456</td>\n",
              "      <td>0.7869</td>\n",
              "      <td>4.585</td>\n",
              "      <td>94.03</td>\n",
              "      <td>0.006150</td>\n",
              "      <td>0.04006</td>\n",
              "      <td>0.03832</td>\n",
              "      <td>0.02058</td>\n",
              "      <td>0.02250</td>\n",
              "      <td>0.004571</td>\n",
              "      <td>23.57</td>\n",
              "      <td>25.53</td>\n",
              "      <td>152.50</td>\n",
              "      <td>1709.0</td>\n",
              "      <td>0.1444</td>\n",
              "      <td>0.4245</td>\n",
              "      <td>0.4504</td>\n",
              "      <td>0.2430</td>\n",
              "      <td>0.3613</td>\n",
              "      <td>0.08758</td>\n",
              "      <td>M</td>\n",
              "    </tr>\n",
              "    <tr>\n",
              "      <th>3</th>\n",
              "      <td>84348301</td>\n",
              "      <td>11.42</td>\n",
              "      <td>20.38</td>\n",
              "      <td>77.58</td>\n",
              "      <td>386.1</td>\n",
              "      <td>0.14250</td>\n",
              "      <td>0.28390</td>\n",
              "      <td>0.2414</td>\n",
              "      <td>0.10520</td>\n",
              "      <td>0.2597</td>\n",
              "      <td>0.09744</td>\n",
              "      <td>0.4956</td>\n",
              "      <td>1.1560</td>\n",
              "      <td>3.445</td>\n",
              "      <td>27.23</td>\n",
              "      <td>0.009110</td>\n",
              "      <td>0.07458</td>\n",
              "      <td>0.05661</td>\n",
              "      <td>0.01867</td>\n",
              "      <td>0.05963</td>\n",
              "      <td>0.009208</td>\n",
              "      <td>14.91</td>\n",
              "      <td>26.50</td>\n",
              "      <td>98.87</td>\n",
              "      <td>567.7</td>\n",
              "      <td>0.2098</td>\n",
              "      <td>0.8663</td>\n",
              "      <td>0.6869</td>\n",
              "      <td>0.2575</td>\n",
              "      <td>0.6638</td>\n",
              "      <td>0.17300</td>\n",
              "      <td>M</td>\n",
              "    </tr>\n",
              "    <tr>\n",
              "      <th>4</th>\n",
              "      <td>84358402</td>\n",
              "      <td>20.29</td>\n",
              "      <td>14.34</td>\n",
              "      <td>135.10</td>\n",
              "      <td>1297.0</td>\n",
              "      <td>0.10030</td>\n",
              "      <td>0.13280</td>\n",
              "      <td>0.1980</td>\n",
              "      <td>0.10430</td>\n",
              "      <td>0.1809</td>\n",
              "      <td>0.05883</td>\n",
              "      <td>0.7572</td>\n",
              "      <td>0.7813</td>\n",
              "      <td>5.438</td>\n",
              "      <td>94.44</td>\n",
              "      <td>0.011490</td>\n",
              "      <td>0.02461</td>\n",
              "      <td>0.05688</td>\n",
              "      <td>0.01885</td>\n",
              "      <td>0.01756</td>\n",
              "      <td>0.005115</td>\n",
              "      <td>22.54</td>\n",
              "      <td>16.67</td>\n",
              "      <td>152.20</td>\n",
              "      <td>1575.0</td>\n",
              "      <td>0.1374</td>\n",
              "      <td>0.2050</td>\n",
              "      <td>0.4000</td>\n",
              "      <td>0.1625</td>\n",
              "      <td>0.2364</td>\n",
              "      <td>0.07678</td>\n",
              "      <td>M</td>\n",
              "    </tr>\n",
              "  </tbody>\n",
              "</table>\n",
              "</div>"
            ],
            "text/plain": [
              "    Column1  Column3  Column4  Column5  ...  Column30  Column31  Column32  Decision\n",
              "0    842302    17.99    10.38   122.80  ...    0.2654    0.4601   0.11890         M\n",
              "1    842517    20.57    17.77   132.90  ...    0.1860    0.2750   0.08902         M\n",
              "2  84300903    19.69    21.25   130.00  ...    0.2430    0.3613   0.08758         M\n",
              "3  84348301    11.42    20.38    77.58  ...    0.2575    0.6638   0.17300         M\n",
              "4  84358402    20.29    14.34   135.10  ...    0.1625    0.2364   0.07678         M\n",
              "\n",
              "[5 rows x 32 columns]"
            ]
          },
          "metadata": {
            "tags": []
          },
          "execution_count": 28
        }
      ]
    },
    {
      "cell_type": "code",
      "metadata": {
        "colab": {
          "base_uri": "https://localhost:8080/"
        },
        "id": "fd9VTbAzzN7v",
        "outputId": "776386f3-bef3-448a-beae-cc83b5ae2251"
      },
      "source": [
        "#check missing values in data set\r\n",
        "data.columns[data.isnull().any()].tolist() "
      ],
      "execution_count": 3,
      "outputs": [
        {
          "output_type": "execute_result",
          "data": {
            "text/plain": [
              "[]"
            ]
          },
          "metadata": {
            "tags": []
          },
          "execution_count": 3
        }
      ]
    },
    {
      "cell_type": "code",
      "metadata": {
        "id": "f_LhWPY2M-5D",
        "colab": {
          "base_uri": "https://localhost:8080/"
        },
        "outputId": "96a193fa-377c-4009-c14a-1e4804d88366"
      },
      "source": [
        "from sklearn.model_selection import train_test_split\r\n",
        "y=data.iloc[:, 1]\r\n",
        "y.head()\r\n"
      ],
      "execution_count": 4,
      "outputs": [
        {
          "output_type": "execute_result",
          "data": {
            "text/plain": [
              "0    M\n",
              "1    M\n",
              "2    M\n",
              "3    M\n",
              "4    M\n",
              "Name: Column2, dtype: object"
            ]
          },
          "metadata": {
            "tags": []
          },
          "execution_count": 4
        }
      ]
    },
    {
      "cell_type": "code",
      "metadata": {
        "colab": {
          "base_uri": "https://localhost:8080/",
          "height": 224
        },
        "id": "OfXOEy--xlTQ",
        "outputId": "6f7941e9-afd0-416d-a277-7235d24d53bb"
      },
      "source": [
        "x = data.drop(data.columns[[0, 1]], axis=1)\r\n",
        "x.head()"
      ],
      "execution_count": 5,
      "outputs": [
        {
          "output_type": "execute_result",
          "data": {
            "text/html": [
              "<div>\n",
              "<style scoped>\n",
              "    .dataframe tbody tr th:only-of-type {\n",
              "        vertical-align: middle;\n",
              "    }\n",
              "\n",
              "    .dataframe tbody tr th {\n",
              "        vertical-align: top;\n",
              "    }\n",
              "\n",
              "    .dataframe thead th {\n",
              "        text-align: right;\n",
              "    }\n",
              "</style>\n",
              "<table border=\"1\" class=\"dataframe\">\n",
              "  <thead>\n",
              "    <tr style=\"text-align: right;\">\n",
              "      <th></th>\n",
              "      <th>Column3</th>\n",
              "      <th>Column4</th>\n",
              "      <th>Column5</th>\n",
              "      <th>Column6</th>\n",
              "      <th>Column7</th>\n",
              "      <th>Column8</th>\n",
              "      <th>Column9</th>\n",
              "      <th>Column10</th>\n",
              "      <th>Column11</th>\n",
              "      <th>Column12</th>\n",
              "      <th>Column13</th>\n",
              "      <th>Column14</th>\n",
              "      <th>Column15</th>\n",
              "      <th>Column16</th>\n",
              "      <th>Column17</th>\n",
              "      <th>Column18</th>\n",
              "      <th>Column19</th>\n",
              "      <th>Column20</th>\n",
              "      <th>Column21</th>\n",
              "      <th>Column22</th>\n",
              "      <th>Column23</th>\n",
              "      <th>Column24</th>\n",
              "      <th>Column25</th>\n",
              "      <th>Column26</th>\n",
              "      <th>Column27</th>\n",
              "      <th>Column28</th>\n",
              "      <th>Column29</th>\n",
              "      <th>Column30</th>\n",
              "      <th>Column31</th>\n",
              "      <th>Column32</th>\n",
              "    </tr>\n",
              "  </thead>\n",
              "  <tbody>\n",
              "    <tr>\n",
              "      <th>0</th>\n",
              "      <td>17.99</td>\n",
              "      <td>10.38</td>\n",
              "      <td>122.80</td>\n",
              "      <td>1001.0</td>\n",
              "      <td>0.11840</td>\n",
              "      <td>0.27760</td>\n",
              "      <td>0.3001</td>\n",
              "      <td>0.14710</td>\n",
              "      <td>0.2419</td>\n",
              "      <td>0.07871</td>\n",
              "      <td>1.0950</td>\n",
              "      <td>0.9053</td>\n",
              "      <td>8.589</td>\n",
              "      <td>153.40</td>\n",
              "      <td>0.006399</td>\n",
              "      <td>0.04904</td>\n",
              "      <td>0.05373</td>\n",
              "      <td>0.01587</td>\n",
              "      <td>0.03003</td>\n",
              "      <td>0.006193</td>\n",
              "      <td>25.38</td>\n",
              "      <td>17.33</td>\n",
              "      <td>184.60</td>\n",
              "      <td>2019.0</td>\n",
              "      <td>0.1622</td>\n",
              "      <td>0.6656</td>\n",
              "      <td>0.7119</td>\n",
              "      <td>0.2654</td>\n",
              "      <td>0.4601</td>\n",
              "      <td>0.11890</td>\n",
              "    </tr>\n",
              "    <tr>\n",
              "      <th>1</th>\n",
              "      <td>20.57</td>\n",
              "      <td>17.77</td>\n",
              "      <td>132.90</td>\n",
              "      <td>1326.0</td>\n",
              "      <td>0.08474</td>\n",
              "      <td>0.07864</td>\n",
              "      <td>0.0869</td>\n",
              "      <td>0.07017</td>\n",
              "      <td>0.1812</td>\n",
              "      <td>0.05667</td>\n",
              "      <td>0.5435</td>\n",
              "      <td>0.7339</td>\n",
              "      <td>3.398</td>\n",
              "      <td>74.08</td>\n",
              "      <td>0.005225</td>\n",
              "      <td>0.01308</td>\n",
              "      <td>0.01860</td>\n",
              "      <td>0.01340</td>\n",
              "      <td>0.01389</td>\n",
              "      <td>0.003532</td>\n",
              "      <td>24.99</td>\n",
              "      <td>23.41</td>\n",
              "      <td>158.80</td>\n",
              "      <td>1956.0</td>\n",
              "      <td>0.1238</td>\n",
              "      <td>0.1866</td>\n",
              "      <td>0.2416</td>\n",
              "      <td>0.1860</td>\n",
              "      <td>0.2750</td>\n",
              "      <td>0.08902</td>\n",
              "    </tr>\n",
              "    <tr>\n",
              "      <th>2</th>\n",
              "      <td>19.69</td>\n",
              "      <td>21.25</td>\n",
              "      <td>130.00</td>\n",
              "      <td>1203.0</td>\n",
              "      <td>0.10960</td>\n",
              "      <td>0.15990</td>\n",
              "      <td>0.1974</td>\n",
              "      <td>0.12790</td>\n",
              "      <td>0.2069</td>\n",
              "      <td>0.05999</td>\n",
              "      <td>0.7456</td>\n",
              "      <td>0.7869</td>\n",
              "      <td>4.585</td>\n",
              "      <td>94.03</td>\n",
              "      <td>0.006150</td>\n",
              "      <td>0.04006</td>\n",
              "      <td>0.03832</td>\n",
              "      <td>0.02058</td>\n",
              "      <td>0.02250</td>\n",
              "      <td>0.004571</td>\n",
              "      <td>23.57</td>\n",
              "      <td>25.53</td>\n",
              "      <td>152.50</td>\n",
              "      <td>1709.0</td>\n",
              "      <td>0.1444</td>\n",
              "      <td>0.4245</td>\n",
              "      <td>0.4504</td>\n",
              "      <td>0.2430</td>\n",
              "      <td>0.3613</td>\n",
              "      <td>0.08758</td>\n",
              "    </tr>\n",
              "    <tr>\n",
              "      <th>3</th>\n",
              "      <td>11.42</td>\n",
              "      <td>20.38</td>\n",
              "      <td>77.58</td>\n",
              "      <td>386.1</td>\n",
              "      <td>0.14250</td>\n",
              "      <td>0.28390</td>\n",
              "      <td>0.2414</td>\n",
              "      <td>0.10520</td>\n",
              "      <td>0.2597</td>\n",
              "      <td>0.09744</td>\n",
              "      <td>0.4956</td>\n",
              "      <td>1.1560</td>\n",
              "      <td>3.445</td>\n",
              "      <td>27.23</td>\n",
              "      <td>0.009110</td>\n",
              "      <td>0.07458</td>\n",
              "      <td>0.05661</td>\n",
              "      <td>0.01867</td>\n",
              "      <td>0.05963</td>\n",
              "      <td>0.009208</td>\n",
              "      <td>14.91</td>\n",
              "      <td>26.50</td>\n",
              "      <td>98.87</td>\n",
              "      <td>567.7</td>\n",
              "      <td>0.2098</td>\n",
              "      <td>0.8663</td>\n",
              "      <td>0.6869</td>\n",
              "      <td>0.2575</td>\n",
              "      <td>0.6638</td>\n",
              "      <td>0.17300</td>\n",
              "    </tr>\n",
              "    <tr>\n",
              "      <th>4</th>\n",
              "      <td>20.29</td>\n",
              "      <td>14.34</td>\n",
              "      <td>135.10</td>\n",
              "      <td>1297.0</td>\n",
              "      <td>0.10030</td>\n",
              "      <td>0.13280</td>\n",
              "      <td>0.1980</td>\n",
              "      <td>0.10430</td>\n",
              "      <td>0.1809</td>\n",
              "      <td>0.05883</td>\n",
              "      <td>0.7572</td>\n",
              "      <td>0.7813</td>\n",
              "      <td>5.438</td>\n",
              "      <td>94.44</td>\n",
              "      <td>0.011490</td>\n",
              "      <td>0.02461</td>\n",
              "      <td>0.05688</td>\n",
              "      <td>0.01885</td>\n",
              "      <td>0.01756</td>\n",
              "      <td>0.005115</td>\n",
              "      <td>22.54</td>\n",
              "      <td>16.67</td>\n",
              "      <td>152.20</td>\n",
              "      <td>1575.0</td>\n",
              "      <td>0.1374</td>\n",
              "      <td>0.2050</td>\n",
              "      <td>0.4000</td>\n",
              "      <td>0.1625</td>\n",
              "      <td>0.2364</td>\n",
              "      <td>0.07678</td>\n",
              "    </tr>\n",
              "  </tbody>\n",
              "</table>\n",
              "</div>"
            ],
            "text/plain": [
              "   Column3  Column4  Column5  Column6  ...  Column29  Column30  Column31  Column32\n",
              "0    17.99    10.38   122.80   1001.0  ...    0.7119    0.2654    0.4601   0.11890\n",
              "1    20.57    17.77   132.90   1326.0  ...    0.2416    0.1860    0.2750   0.08902\n",
              "2    19.69    21.25   130.00   1203.0  ...    0.4504    0.2430    0.3613   0.08758\n",
              "3    11.42    20.38    77.58    386.1  ...    0.6869    0.2575    0.6638   0.17300\n",
              "4    20.29    14.34   135.10   1297.0  ...    0.4000    0.1625    0.2364   0.07678\n",
              "\n",
              "[5 rows x 30 columns]"
            ]
          },
          "metadata": {
            "tags": []
          },
          "execution_count": 5
        }
      ]
    },
    {
      "cell_type": "code",
      "metadata": {
        "id": "thC5eA6hwK7R"
      },
      "source": [
        "#split data set\r\n",
        "x_train, x_test = train_test_split(data, test_size=0.349, random_state=1)"
      ],
      "execution_count": 31,
      "outputs": []
    },
    {
      "cell_type": "code",
      "metadata": {
        "id": "4-R5grN2PNQQ",
        "colab": {
          "base_uri": "https://localhost:8080/",
          "height": 224
        },
        "outputId": "dcbce919-02cc-4444-f7ef-9c3b4f1e96dc"
      },
      "source": [
        "x_train.head()"
      ],
      "execution_count": 32,
      "outputs": [
        {
          "output_type": "execute_result",
          "data": {
            "text/html": [
              "<div>\n",
              "<style scoped>\n",
              "    .dataframe tbody tr th:only-of-type {\n",
              "        vertical-align: middle;\n",
              "    }\n",
              "\n",
              "    .dataframe tbody tr th {\n",
              "        vertical-align: top;\n",
              "    }\n",
              "\n",
              "    .dataframe thead th {\n",
              "        text-align: right;\n",
              "    }\n",
              "</style>\n",
              "<table border=\"1\" class=\"dataframe\">\n",
              "  <thead>\n",
              "    <tr style=\"text-align: right;\">\n",
              "      <th></th>\n",
              "      <th>Column1</th>\n",
              "      <th>Column3</th>\n",
              "      <th>Column4</th>\n",
              "      <th>Column5</th>\n",
              "      <th>Column6</th>\n",
              "      <th>Column7</th>\n",
              "      <th>Column8</th>\n",
              "      <th>Column9</th>\n",
              "      <th>Column10</th>\n",
              "      <th>Column11</th>\n",
              "      <th>Column12</th>\n",
              "      <th>Column13</th>\n",
              "      <th>Column14</th>\n",
              "      <th>Column15</th>\n",
              "      <th>Column16</th>\n",
              "      <th>Column17</th>\n",
              "      <th>Column18</th>\n",
              "      <th>Column19</th>\n",
              "      <th>Column20</th>\n",
              "      <th>Column21</th>\n",
              "      <th>Column22</th>\n",
              "      <th>Column23</th>\n",
              "      <th>Column24</th>\n",
              "      <th>Column25</th>\n",
              "      <th>Column26</th>\n",
              "      <th>Column27</th>\n",
              "      <th>Column28</th>\n",
              "      <th>Column29</th>\n",
              "      <th>Column30</th>\n",
              "      <th>Column31</th>\n",
              "      <th>Column32</th>\n",
              "      <th>Decision</th>\n",
              "    </tr>\n",
              "  </thead>\n",
              "  <tbody>\n",
              "    <tr>\n",
              "      <th>93</th>\n",
              "      <td>862009</td>\n",
              "      <td>13.45</td>\n",
              "      <td>18.30</td>\n",
              "      <td>86.60</td>\n",
              "      <td>555.1</td>\n",
              "      <td>0.10220</td>\n",
              "      <td>0.08165</td>\n",
              "      <td>0.03974</td>\n",
              "      <td>0.02780</td>\n",
              "      <td>0.1638</td>\n",
              "      <td>0.05710</td>\n",
              "      <td>0.2950</td>\n",
              "      <td>1.3730</td>\n",
              "      <td>2.099</td>\n",
              "      <td>25.22</td>\n",
              "      <td>0.005884</td>\n",
              "      <td>0.01491</td>\n",
              "      <td>0.01872</td>\n",
              "      <td>0.009366</td>\n",
              "      <td>0.01884</td>\n",
              "      <td>0.001817</td>\n",
              "      <td>15.10</td>\n",
              "      <td>25.94</td>\n",
              "      <td>97.59</td>\n",
              "      <td>699.4</td>\n",
              "      <td>0.1339</td>\n",
              "      <td>0.1751</td>\n",
              "      <td>0.1381</td>\n",
              "      <td>0.07911</td>\n",
              "      <td>0.2678</td>\n",
              "      <td>0.06603</td>\n",
              "      <td>B</td>\n",
              "    </tr>\n",
              "    <tr>\n",
              "      <th>479</th>\n",
              "      <td>911916</td>\n",
              "      <td>16.25</td>\n",
              "      <td>19.51</td>\n",
              "      <td>109.80</td>\n",
              "      <td>815.8</td>\n",
              "      <td>0.10260</td>\n",
              "      <td>0.18930</td>\n",
              "      <td>0.22360</td>\n",
              "      <td>0.09194</td>\n",
              "      <td>0.2151</td>\n",
              "      <td>0.06578</td>\n",
              "      <td>0.3147</td>\n",
              "      <td>0.9857</td>\n",
              "      <td>3.070</td>\n",
              "      <td>33.12</td>\n",
              "      <td>0.009197</td>\n",
              "      <td>0.05470</td>\n",
              "      <td>0.08079</td>\n",
              "      <td>0.022150</td>\n",
              "      <td>0.02773</td>\n",
              "      <td>0.006355</td>\n",
              "      <td>17.39</td>\n",
              "      <td>23.05</td>\n",
              "      <td>122.10</td>\n",
              "      <td>939.7</td>\n",
              "      <td>0.1377</td>\n",
              "      <td>0.4462</td>\n",
              "      <td>0.5897</td>\n",
              "      <td>0.17750</td>\n",
              "      <td>0.3318</td>\n",
              "      <td>0.09136</td>\n",
              "      <td>M</td>\n",
              "    </tr>\n",
              "    <tr>\n",
              "      <th>81</th>\n",
              "      <td>8611161</td>\n",
              "      <td>13.34</td>\n",
              "      <td>15.86</td>\n",
              "      <td>86.49</td>\n",
              "      <td>520.0</td>\n",
              "      <td>0.10780</td>\n",
              "      <td>0.15350</td>\n",
              "      <td>0.11690</td>\n",
              "      <td>0.06987</td>\n",
              "      <td>0.1942</td>\n",
              "      <td>0.06902</td>\n",
              "      <td>0.2860</td>\n",
              "      <td>1.0160</td>\n",
              "      <td>1.535</td>\n",
              "      <td>12.96</td>\n",
              "      <td>0.006794</td>\n",
              "      <td>0.03575</td>\n",
              "      <td>0.03980</td>\n",
              "      <td>0.013830</td>\n",
              "      <td>0.02134</td>\n",
              "      <td>0.004603</td>\n",
              "      <td>15.53</td>\n",
              "      <td>23.19</td>\n",
              "      <td>96.66</td>\n",
              "      <td>614.9</td>\n",
              "      <td>0.1536</td>\n",
              "      <td>0.4791</td>\n",
              "      <td>0.4858</td>\n",
              "      <td>0.17080</td>\n",
              "      <td>0.3527</td>\n",
              "      <td>0.10160</td>\n",
              "      <td>B</td>\n",
              "    </tr>\n",
              "    <tr>\n",
              "      <th>385</th>\n",
              "      <td>90291</td>\n",
              "      <td>14.60</td>\n",
              "      <td>23.29</td>\n",
              "      <td>93.97</td>\n",
              "      <td>664.7</td>\n",
              "      <td>0.08682</td>\n",
              "      <td>0.06636</td>\n",
              "      <td>0.08390</td>\n",
              "      <td>0.05271</td>\n",
              "      <td>0.1627</td>\n",
              "      <td>0.05416</td>\n",
              "      <td>0.4157</td>\n",
              "      <td>1.6270</td>\n",
              "      <td>2.914</td>\n",
              "      <td>33.01</td>\n",
              "      <td>0.008312</td>\n",
              "      <td>0.01742</td>\n",
              "      <td>0.03389</td>\n",
              "      <td>0.015760</td>\n",
              "      <td>0.01740</td>\n",
              "      <td>0.002871</td>\n",
              "      <td>15.79</td>\n",
              "      <td>31.71</td>\n",
              "      <td>102.20</td>\n",
              "      <td>758.2</td>\n",
              "      <td>0.1312</td>\n",
              "      <td>0.1581</td>\n",
              "      <td>0.2675</td>\n",
              "      <td>0.13590</td>\n",
              "      <td>0.2477</td>\n",
              "      <td>0.06836</td>\n",
              "      <td>M</td>\n",
              "    </tr>\n",
              "    <tr>\n",
              "      <th>440</th>\n",
              "      <td>909411</td>\n",
              "      <td>10.97</td>\n",
              "      <td>17.20</td>\n",
              "      <td>71.73</td>\n",
              "      <td>371.5</td>\n",
              "      <td>0.08915</td>\n",
              "      <td>0.11130</td>\n",
              "      <td>0.09457</td>\n",
              "      <td>0.03613</td>\n",
              "      <td>0.1489</td>\n",
              "      <td>0.06640</td>\n",
              "      <td>0.2574</td>\n",
              "      <td>1.3760</td>\n",
              "      <td>2.806</td>\n",
              "      <td>18.15</td>\n",
              "      <td>0.008565</td>\n",
              "      <td>0.04638</td>\n",
              "      <td>0.06430</td>\n",
              "      <td>0.017680</td>\n",
              "      <td>0.01516</td>\n",
              "      <td>0.004976</td>\n",
              "      <td>12.36</td>\n",
              "      <td>26.87</td>\n",
              "      <td>90.14</td>\n",
              "      <td>476.4</td>\n",
              "      <td>0.1391</td>\n",
              "      <td>0.4082</td>\n",
              "      <td>0.4779</td>\n",
              "      <td>0.15550</td>\n",
              "      <td>0.2540</td>\n",
              "      <td>0.09532</td>\n",
              "      <td>B</td>\n",
              "    </tr>\n",
              "  </tbody>\n",
              "</table>\n",
              "</div>"
            ],
            "text/plain": [
              "     Column1  Column3  Column4  Column5  ...  Column30  Column31  Column32  Decision\n",
              "93    862009    13.45    18.30    86.60  ...   0.07911    0.2678   0.06603         B\n",
              "479   911916    16.25    19.51   109.80  ...   0.17750    0.3318   0.09136         M\n",
              "81   8611161    13.34    15.86    86.49  ...   0.17080    0.3527   0.10160         B\n",
              "385    90291    14.60    23.29    93.97  ...   0.13590    0.2477   0.06836         M\n",
              "440   909411    10.97    17.20    71.73  ...   0.15550    0.2540   0.09532         B\n",
              "\n",
              "[5 rows x 32 columns]"
            ]
          },
          "metadata": {
            "tags": []
          },
          "execution_count": 32
        }
      ]
    },
    {
      "cell_type": "code",
      "metadata": {
        "id": "HKCA_XTyNr9q"
      },
      "source": [
        "from chefboost import Chefboost as chef"
      ],
      "execution_count": 21,
      "outputs": []
    },
    {
      "cell_type": "code",
      "metadata": {
        "colab": {
          "base_uri": "https://localhost:8080/"
        },
        "id": "omOEjU4cfhNn",
        "outputId": "d11ec188-110e-40f2-ce3f-8b1f91014741"
      },
      "source": [
        "pip install Chefboost"
      ],
      "execution_count": 19,
      "outputs": [
        {
          "output_type": "stream",
          "text": [
            "Requirement already satisfied: Chefboost in /usr/local/lib/python3.7/dist-packages (0.0.11)\n",
            "Requirement already satisfied: tqdm>=4.30.0 in /usr/local/lib/python3.7/dist-packages (from Chefboost) (4.41.1)\n",
            "Requirement already satisfied: psutil>=5.4.3 in /usr/local/lib/python3.7/dist-packages (from Chefboost) (5.4.8)\n",
            "Requirement already satisfied: pandas>=0.22.0 in /usr/local/lib/python3.7/dist-packages (from Chefboost) (1.1.5)\n",
            "Requirement already satisfied: numpy>=1.14.0 in /usr/local/lib/python3.7/dist-packages (from Chefboost) (1.19.5)\n",
            "Requirement already satisfied: python-dateutil>=2.7.3 in /usr/local/lib/python3.7/dist-packages (from pandas>=0.22.0->Chefboost) (2.8.1)\n",
            "Requirement already satisfied: pytz>=2017.2 in /usr/local/lib/python3.7/dist-packages (from pandas>=0.22.0->Chefboost) (2018.9)\n",
            "Requirement already satisfied: six>=1.5 in /usr/local/lib/python3.7/dist-packages (from python-dateutil>=2.7.3->pandas>=0.22.0->Chefboost) (1.15.0)\n"
          ],
          "name": "stdout"
        }
      ]
    },
    {
      "cell_type": "code",
      "metadata": {
        "id": "MOxn7W2GO9E0"
      },
      "source": [
        "config = {'algorithm', 'C4.5'}"
      ],
      "execution_count": 23,
      "outputs": []
    },
    {
      "cell_type": "code",
      "metadata": {
        "id": "9ZwPFGza5H8O",
        "colab": {
          "base_uri": "https://localhost:8080/"
        },
        "outputId": "e9b33447-1188-4794-ef3a-403a038d88c3"
      },
      "source": [
        "config = {'algorithm': 'C4.5'}\r\n",
        "model = chef.fit(data.copy(), config = config)"
      ],
      "execution_count": 48,
      "outputs": [
        {
          "output_type": "stream",
          "text": [
            "C4.5  tree is going to be built...\n",
            "-------------------------\n",
            "finished in  36.79119324684143  seconds\n",
            "-------------------------\n",
            "Evaluate  train set\n",
            "-------------------------\n",
            "Accuracy:  100.0 % on  569  instances\n",
            "Labels:  ['M' 'B']\n",
            "Confusion matrix:  [[212, 0], [0, 357]]\n",
            "Precision:  100.0 %, Recall:  100.0 %, F1:  100.0 %\n"
          ],
          "name": "stdout"
        }
      ]
    },
    {
      "cell_type": "code",
      "metadata": {
        "colab": {
          "base_uri": "https://localhost:8080/"
        },
        "id": "bD-ppYlNmsUF",
        "outputId": "9260abbf-a68c-43c2-8414-e672fdadbede"
      },
      "source": [
        "data.iloc[0]"
      ],
      "execution_count": 51,
      "outputs": [
        {
          "output_type": "execute_result",
          "data": {
            "text/plain": [
              "Column1       842302\n",
              "Column3        17.99\n",
              "Column4        10.38\n",
              "Column5        122.8\n",
              "Column6         1001\n",
              "Column7       0.1184\n",
              "Column8       0.2776\n",
              "Column9       0.3001\n",
              "Column10      0.1471\n",
              "Column11      0.2419\n",
              "Column12     0.07871\n",
              "Column13       1.095\n",
              "Column14      0.9053\n",
              "Column15       8.589\n",
              "Column16       153.4\n",
              "Column17    0.006399\n",
              "Column18     0.04904\n",
              "Column19     0.05373\n",
              "Column20     0.01587\n",
              "Column21     0.03003\n",
              "Column22    0.006193\n",
              "Column23       25.38\n",
              "Column24       17.33\n",
              "Column25       184.6\n",
              "Column26        2019\n",
              "Column27      0.1622\n",
              "Column28      0.6656\n",
              "Column29      0.7119\n",
              "Column30      0.2654\n",
              "Column31      0.4601\n",
              "Column32      0.1189\n",
              "Decision           M\n",
              "Name: 0, dtype: object"
            ]
          },
          "metadata": {
            "tags": []
          },
          "execution_count": 51
        }
      ]
    },
    {
      "cell_type": "code",
      "metadata": {
        "id": "dRX-RY7P1LVd"
      },
      "source": [
        "predictions = chef.predict(model, data.iloc[0])"
      ],
      "execution_count": 52,
      "outputs": []
    },
    {
      "cell_type": "code",
      "metadata": {
        "colab": {
          "base_uri": "https://localhost:8080/",
          "height": 35
        },
        "id": "K_CK-EwEnxkh",
        "outputId": "b408fa6e-7456-450a-938b-90b269af928a"
      },
      "source": [
        "predictions"
      ],
      "execution_count": 53,
      "outputs": [
        {
          "output_type": "execute_result",
          "data": {
            "application/vnd.google.colaboratory.intrinsic+json": {
              "type": "string"
            },
            "text/plain": [
              "'M'"
            ]
          },
          "metadata": {
            "tags": []
          },
          "execution_count": 53
        }
      ]
    },
    {
      "cell_type": "code",
      "metadata": {
        "id": "tykrPSi47Vjz",
        "colab": {
          "base_uri": "https://localhost:8080/"
        },
        "outputId": "98c6c346-08ee-428b-9fb5-783f074e4b4b"
      },
      "source": [
        "for index, instance in x_test.iterrows():\r\n",
        "  prediction = chef.predict(model, instance)\r\n",
        "  actual = instance['Decision']\r\n",
        "  print(actual, \" - \", prediction)"
      ],
      "execution_count": 55,
      "outputs": [
        {
          "output_type": "stream",
          "text": [
            "B  -  B\n",
            "M  -  M\n",
            "B  -  B\n",
            "M  -  M\n",
            "M  -  M\n",
            "M  -  M\n",
            "M  -  M\n",
            "M  -  M\n",
            "B  -  B\n",
            "B  -  B\n",
            "B  -  B\n",
            "M  -  M\n",
            "M  -  M\n",
            "B  -  B\n",
            "B  -  B\n",
            "B  -  B\n",
            "B  -  B\n",
            "B  -  B\n",
            "B  -  B\n",
            "M  -  M\n",
            "B  -  B\n",
            "B  -  B\n",
            "M  -  M\n",
            "B  -  B\n",
            "M  -  M\n",
            "B  -  B\n",
            "B  -  B\n",
            "M  -  M\n",
            "M  -  M\n",
            "M  -  M\n",
            "M  -  M\n",
            "B  -  B\n",
            "M  -  M\n",
            "M  -  M\n",
            "B  -  B\n",
            "B  -  B\n",
            "M  -  M\n",
            "B  -  B\n",
            "M  -  M\n",
            "B  -  B\n",
            "B  -  B\n",
            "B  -  B\n",
            "B  -  B\n",
            "B  -  B\n",
            "B  -  B\n",
            "M  -  M\n",
            "B  -  B\n",
            "B  -  B\n",
            "B  -  B\n",
            "M  -  M\n",
            "M  -  M\n",
            "M  -  M\n",
            "B  -  B\n",
            "B  -  B\n",
            "B  -  B\n",
            "B  -  B\n",
            "B  -  B\n",
            "M  -  M\n",
            "B  -  B\n",
            "B  -  B\n",
            "B  -  B\n",
            "M  -  M\n",
            "B  -  B\n",
            "B  -  B\n",
            "B  -  B\n",
            "B  -  B\n",
            "B  -  B\n",
            "M  -  M\n",
            "B  -  B\n",
            "B  -  B\n",
            "B  -  B\n",
            "B  -  B\n",
            "M  -  M\n",
            "M  -  M\n",
            "B  -  B\n",
            "M  -  M\n",
            "M  -  M\n",
            "M  -  M\n",
            "B  -  B\n",
            "M  -  M\n",
            "B  -  B\n",
            "M  -  M\n",
            "B  -  B\n",
            "M  -  M\n",
            "B  -  B\n",
            "B  -  B\n",
            "M  -  M\n",
            "B  -  B\n",
            "M  -  M\n",
            "B  -  B\n",
            "B  -  B\n",
            "M  -  M\n",
            "B  -  B\n",
            "B  -  B\n",
            "M  -  M\n",
            "M  -  M\n",
            "B  -  B\n",
            "B  -  B\n",
            "B  -  B\n",
            "B  -  B\n",
            "B  -  B\n",
            "B  -  B\n",
            "B  -  B\n",
            "B  -  B\n",
            "B  -  B\n",
            "B  -  B\n",
            "B  -  B\n",
            "B  -  B\n",
            "M  -  M\n",
            "M  -  M\n",
            "M  -  M\n",
            "B  -  B\n",
            "B  -  B\n",
            "B  -  B\n",
            "M  -  M\n",
            "M  -  M\n",
            "B  -  B\n",
            "B  -  B\n",
            "B  -  B\n",
            "B  -  B\n",
            "B  -  B\n",
            "M  -  M\n",
            "M  -  M\n",
            "B  -  B\n",
            "B  -  B\n",
            "M  -  M\n",
            "M  -  M\n",
            "B  -  B\n",
            "M  -  M\n",
            "M  -  M\n",
            "B  -  B\n",
            "B  -  B\n",
            "B  -  B\n",
            "M  -  M\n",
            "B  -  B\n",
            "M  -  M\n",
            "M  -  M\n",
            "B  -  B\n",
            "B  -  B\n",
            "B  -  B\n",
            "M  -  M\n",
            "M  -  M\n",
            "B  -  B\n",
            "M  -  M\n",
            "B  -  B\n",
            "M  -  M\n",
            "B  -  B\n",
            "B  -  B\n",
            "B  -  B\n",
            "M  -  M\n",
            "B  -  B\n",
            "B  -  B\n",
            "B  -  B\n",
            "M  -  M\n",
            "B  -  B\n",
            "B  -  B\n",
            "B  -  B\n",
            "B  -  B\n",
            "B  -  B\n",
            "B  -  B\n",
            "B  -  B\n",
            "B  -  B\n",
            "B  -  B\n",
            "M  -  M\n",
            "B  -  B\n",
            "B  -  B\n",
            "M  -  M\n",
            "M  -  M\n",
            "M  -  M\n",
            "B  -  B\n",
            "B  -  B\n",
            "B  -  B\n",
            "B  -  B\n",
            "B  -  B\n",
            "B  -  B\n",
            "B  -  B\n",
            "B  -  B\n",
            "B  -  B\n",
            "B  -  B\n",
            "B  -  B\n",
            "B  -  B\n",
            "B  -  B\n",
            "B  -  B\n",
            "B  -  B\n",
            "B  -  B\n",
            "M  -  M\n",
            "M  -  M\n",
            "B  -  B\n",
            "M  -  M\n",
            "B  -  B\n",
            "B  -  B\n",
            "B  -  B\n",
            "B  -  B\n",
            "M  -  M\n",
            "M  -  M\n",
            "B  -  B\n",
            "B  -  B\n",
            "M  -  M\n",
            "M  -  M\n"
          ],
          "name": "stdout"
        }
      ]
    },
    {
      "cell_type": "code",
      "metadata": {
        "id": "RhdcOaH79N_t"
      },
      "source": [
        "\n",
        "p = pd.DataFrame(predictions, columns=['predictions']).to_csv('/content/gdrive/My Drive/Colab Notebooks/prediction_new_10.csv')\n",
        "#open('/content/gdrive/My Drive/Colab Notebooks/predictions.txt', 'wb').write(results)"
      ],
      "execution_count": null,
      "outputs": []
    },
    {
      "cell_type": "code",
      "metadata": {
        "id": "t1k9ovm492Wv"
      },
      "source": [
        "from google.colab import files\n",
        "files.download('/content/gdrive/My Drive/Colab Notebooks/prediction_new_10.csv')"
      ],
      "execution_count": null,
      "outputs": []
    },
    {
      "cell_type": "code",
      "metadata": {
        "id": "aEYgYsWY1b1K"
      },
      "source": [
        "from sklearn.metrics import classification_report"
      ],
      "execution_count": null,
      "outputs": []
    },
    {
      "cell_type": "code",
      "metadata": {
        "id": "jLU9wG9g1j86",
        "colab": {
          "base_uri": "https://localhost:8080/",
          "height": 70
        },
        "outputId": "457a30c7-b1ad-401e-892e-bd5615f8569d"
      },
      "source": [
        "classification_report(y_test,predictions)"
      ],
      "execution_count": null,
      "outputs": [
        {
          "output_type": "execute_result",
          "data": {
            "application/vnd.google.colaboratory.intrinsic+json": {
              "type": "string"
            },
            "text/plain": [
              "'              precision    recall  f1-score   support\\n\\n           B       0.96      0.94      0.95       129\\n           M       0.89      0.93      0.91        70\\n\\n    accuracy                           0.93       199\\n   macro avg       0.93      0.93      0.93       199\\nweighted avg       0.94      0.93      0.93       199\\n'"
            ]
          },
          "metadata": {
            "tags": []
          },
          "execution_count": 28
        }
      ]
    },
    {
      "cell_type": "code",
      "metadata": {
        "id": "StawQj6B1_CM"
      },
      "source": [
        "from sklearn.metrics import confusion_matrix"
      ],
      "execution_count": null,
      "outputs": []
    },
    {
      "cell_type": "code",
      "metadata": {
        "id": "ss4CD5182G5g",
        "colab": {
          "base_uri": "https://localhost:8080/"
        },
        "outputId": "a7f997eb-fce1-42f0-88e7-0ebdf07ebf85"
      },
      "source": [
        "confusion_matrix(y_test,predictions)"
      ],
      "execution_count": null,
      "outputs": [
        {
          "output_type": "execute_result",
          "data": {
            "text/plain": [
              "array([[121,   8],\n",
              "       [  5,  65]])"
            ]
          },
          "metadata": {
            "tags": []
          },
          "execution_count": 30
        }
      ]
    },
    {
      "cell_type": "code",
      "metadata": {
        "id": "oj75fZUF2y-M"
      },
      "source": [
        "from sklearn.metrics import accuracy_score"
      ],
      "execution_count": null,
      "outputs": []
    },
    {
      "cell_type": "code",
      "metadata": {
        "id": "GbPN3kUK22oG",
        "colab": {
          "base_uri": "https://localhost:8080/"
        },
        "outputId": "9e271293-a4fc-453f-fe56-d70b338a65a1"
      },
      "source": [
        "accuracy_score(y_test,predictions)"
      ],
      "execution_count": null,
      "outputs": [
        {
          "output_type": "execute_result",
          "data": {
            "text/plain": [
              "0.9346733668341709"
            ]
          },
          "metadata": {
            "tags": []
          },
          "execution_count": 32
        }
      ]
    },
    {
      "cell_type": "code",
      "metadata": {
        "id": "AymSLk9Z43Ij"
      },
      "source": [
        "# import seaborn and plotly\r\n",
        "import matplotlib\r\n",
        "from matplotlib import pyplot as plt\r\n",
        "import seaborn as sns"
      ],
      "execution_count": null,
      "outputs": []
    },
    {
      "cell_type": "code",
      "metadata": {
        "id": "796Landc43L2"
      },
      "source": [
        "# set viz style\r\n",
        "sns.set_style('dark')\r\n",
        "# plot the model\r\n",
        "plot = sns.scatterplot(y_test, predictions)\r\n",
        "plot.set(xlabel='Given', ylabel='Prediction')"
      ],
      "execution_count": null,
      "outputs": []
    },
    {
      "cell_type": "code",
      "metadata": {
        "colab": {
          "base_uri": "https://localhost:8080/",
          "height": 283
        },
        "id": "wlXzaucK5Lff",
        "outputId": "2f03c1ae-2734-473c-952a-9920870ed7f6"
      },
      "source": [
        "# generate and graph y = x line\r\n",
        "import numpy as np\r\n",
        "x_plot = np.linspace(0,5,100)\r\n",
        "y_plot = x_plot\r\n",
        "plt.plot(x_plot, y_plot, color='r')"
      ],
      "execution_count": null,
      "outputs": [
        {
          "output_type": "execute_result",
          "data": {
            "text/plain": [
              "[<matplotlib.lines.Line2D at 0x7f1f67a56d30>]"
            ]
          },
          "metadata": {
            "tags": []
          },
          "execution_count": 47
        },
        {
          "output_type": "display_data",
          "data": {
            "image/png": "[encoded data removed]",
            "text/plain": [
              "<Figure size 432x288 with 1 Axes>"
            ]
          },
          "metadata": {
            "tags": []
          }
        }
      ]
    }
  ]
}